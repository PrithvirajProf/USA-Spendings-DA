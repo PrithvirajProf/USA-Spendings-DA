{
 "cells": [
  {
   "cell_type": "markdown",
   "id": "fc7b519c",
   "metadata": {},
   "source": [
    "This notebook is used for only knowing and cleaning the data for the future analysis"
   ]
  },
  {
   "cell_type": "code",
   "execution_count": 2,
   "id": "bbf214ae",
   "metadata": {},
   "outputs": [],
   "source": [
    "import pandas as pd\n",
    "import json "
   ]
  },
  {
   "cell_type": "code",
   "execution_count": 3,
   "id": "76b8a244",
   "metadata": {},
   "outputs": [
    {
     "data": {
      "text/html": [
       "<div>\n",
       "<style scoped>\n",
       "    .dataframe tbody tr th:only-of-type {\n",
       "        vertical-align: middle;\n",
       "    }\n",
       "\n",
       "    .dataframe tbody tr th {\n",
       "        vertical-align: top;\n",
       "    }\n",
       "\n",
       "    .dataframe thead th {\n",
       "        text-align: right;\n",
       "    }\n",
       "</style>\n",
       "<table border=\"1\" class=\"dataframe\">\n",
       "  <thead>\n",
       "    <tr style=\"text-align: right;\">\n",
       "      <th></th>\n",
       "      <th>agency_id</th>\n",
       "      <th>toptier_code</th>\n",
       "      <th>abbreviation</th>\n",
       "      <th>agency_name</th>\n",
       "      <th>congressional_justification_url</th>\n",
       "      <th>active_fy</th>\n",
       "      <th>active_fq</th>\n",
       "      <th>outlay_amount</th>\n",
       "      <th>obligated_amount</th>\n",
       "      <th>budget_authority_amount</th>\n",
       "      <th>current_total_budget_authority_amount</th>\n",
       "      <th>percentage_of_total_budget_authority</th>\n",
       "      <th>agency_slug</th>\n",
       "    </tr>\n",
       "  </thead>\n",
       "  <tbody>\n",
       "    <tr>\n",
       "      <th>0</th>\n",
       "      <td>1525</td>\n",
       "      <td>247</td>\n",
       "      <td>AAHC</td>\n",
       "      <td>400 Years of African-American History Commission</td>\n",
       "      <td>NaN</td>\n",
       "      <td>2025</td>\n",
       "      <td>3</td>\n",
       "      <td>1.953400e+06</td>\n",
       "      <td>2.197040e+04</td>\n",
       "      <td>2.934499e+06</td>\n",
       "      <td>1.419547e+13</td>\n",
       "      <td>2.067209e-07</td>\n",
       "      <td>400-years-of-african-american-history-commission</td>\n",
       "    </tr>\n",
       "    <tr>\n",
       "      <th>1</th>\n",
       "      <td>1146</td>\n",
       "      <td>310</td>\n",
       "      <td>USAB</td>\n",
       "      <td>Access Board</td>\n",
       "      <td>https://www.access-board.gov/cj</td>\n",
       "      <td>2025</td>\n",
       "      <td>3</td>\n",
       "      <td>5.918139e+06</td>\n",
       "      <td>5.765031e+06</td>\n",
       "      <td>1.358844e+07</td>\n",
       "      <td>1.419547e+13</td>\n",
       "      <td>9.572384e-07</td>\n",
       "      <td>access-board</td>\n",
       "    </tr>\n",
       "    <tr>\n",
       "      <th>2</th>\n",
       "      <td>1136</td>\n",
       "      <td>302</td>\n",
       "      <td>ACUS</td>\n",
       "      <td>Administrative Conference of the U.S.</td>\n",
       "      <td>https://www.acus.gov/cj</td>\n",
       "      <td>2025</td>\n",
       "      <td>3</td>\n",
       "      <td>2.394067e+06</td>\n",
       "      <td>2.269892e+06</td>\n",
       "      <td>3.600360e+06</td>\n",
       "      <td>1.419547e+13</td>\n",
       "      <td>2.536275e-07</td>\n",
       "      <td>administrative-conference-of-the-us</td>\n",
       "    </tr>\n",
       "    <tr>\n",
       "      <th>3</th>\n",
       "      <td>1144</td>\n",
       "      <td>306</td>\n",
       "      <td>ACHP</td>\n",
       "      <td>Advisory Council on Historic Preservation</td>\n",
       "      <td>https://www.achp.gov/sites/default/files/2021-...</td>\n",
       "      <td>2025</td>\n",
       "      <td>3</td>\n",
       "      <td>8.149314e+06</td>\n",
       "      <td>7.729430e+06</td>\n",
       "      <td>1.863945e+07</td>\n",
       "      <td>1.419547e+13</td>\n",
       "      <td>1.313056e-06</td>\n",
       "      <td>advisory-council-on-historic-preservation</td>\n",
       "    </tr>\n",
       "    <tr>\n",
       "      <th>4</th>\n",
       "      <td>1527</td>\n",
       "      <td>166</td>\n",
       "      <td>USADF</td>\n",
       "      <td>African Development Foundation</td>\n",
       "      <td>https://www.usadf.gov/cj</td>\n",
       "      <td>2025</td>\n",
       "      <td>3</td>\n",
       "      <td>1.858159e+07</td>\n",
       "      <td>1.707742e+07</td>\n",
       "      <td>6.479858e+07</td>\n",
       "      <td>1.419547e+13</td>\n",
       "      <td>4.564737e-06</td>\n",
       "      <td>african-development-foundation</td>\n",
       "    </tr>\n",
       "    <tr>\n",
       "      <th>...</th>\n",
       "      <td>...</td>\n",
       "      <td>...</td>\n",
       "      <td>...</td>\n",
       "      <td>...</td>\n",
       "      <td>...</td>\n",
       "      <td>...</td>\n",
       "      <td>...</td>\n",
       "      <td>...</td>\n",
       "      <td>...</td>\n",
       "      <td>...</td>\n",
       "      <td>...</td>\n",
       "      <td>...</td>\n",
       "      <td>...</td>\n",
       "    </tr>\n",
       "    <tr>\n",
       "      <th>105</th>\n",
       "      <td>1522</td>\n",
       "      <td>77</td>\n",
       "      <td>DFC</td>\n",
       "      <td>U.S. International Development Finance Corpora...</td>\n",
       "      <td>NaN</td>\n",
       "      <td>2025</td>\n",
       "      <td>3</td>\n",
       "      <td>3.853499e+08</td>\n",
       "      <td>2.083858e+08</td>\n",
       "      <td>8.190721e+09</td>\n",
       "      <td>1.419547e+13</td>\n",
       "      <td>5.769956e-04</td>\n",
       "      <td>us-international-development-finance-corporation</td>\n",
       "    </tr>\n",
       "    <tr>\n",
       "      <th>106</th>\n",
       "      <td>1162</td>\n",
       "      <td>510</td>\n",
       "      <td>CSB</td>\n",
       "      <td>United States Chemical Safety Board</td>\n",
       "      <td>https://www.csb.gov/cj</td>\n",
       "      <td>2025</td>\n",
       "      <td>3</td>\n",
       "      <td>8.945224e+06</td>\n",
       "      <td>8.489627e+06</td>\n",
       "      <td>2.166740e+07</td>\n",
       "      <td>1.419547e+13</td>\n",
       "      <td>1.526361e-06</td>\n",
       "      <td>united-states-chemical-safety-board</td>\n",
       "    </tr>\n",
       "    <tr>\n",
       "      <th>107</th>\n",
       "      <td>1169</td>\n",
       "      <td>345</td>\n",
       "      <td>CAVC</td>\n",
       "      <td>United States Court of Appeals for Veterans Cl...</td>\n",
       "      <td>https://www.uscourts.cavc.gov/cj</td>\n",
       "      <td>2025</td>\n",
       "      <td>3</td>\n",
       "      <td>2.976940e+07</td>\n",
       "      <td>3.243715e+07</td>\n",
       "      <td>1.264026e+08</td>\n",
       "      <td>1.419547e+13</td>\n",
       "      <td>8.904436e-06</td>\n",
       "      <td>united-states-court-of-appeals-for-veterans-cl...</td>\n",
       "    </tr>\n",
       "    <tr>\n",
       "      <th>108</th>\n",
       "      <td>90</td>\n",
       "      <td>1133</td>\n",
       "      <td>USTDA</td>\n",
       "      <td>United States Trade and Development Agency</td>\n",
       "      <td>https://www.ustda.gov/cj</td>\n",
       "      <td>2025</td>\n",
       "      <td>3</td>\n",
       "      <td>5.250495e+07</td>\n",
       "      <td>3.134760e+07</td>\n",
       "      <td>1.822763e+08</td>\n",
       "      <td>1.419547e+13</td>\n",
       "      <td>1.284046e-05</td>\n",
       "      <td>united-states-trade-and-development-agency</td>\n",
       "    </tr>\n",
       "    <tr>\n",
       "      <th>109</th>\n",
       "      <td>1418</td>\n",
       "      <td>519</td>\n",
       "      <td>VEF</td>\n",
       "      <td>Vietnam Education Foundation</td>\n",
       "      <td>NaN</td>\n",
       "      <td>2025</td>\n",
       "      <td>3</td>\n",
       "      <td>0.000000e+00</td>\n",
       "      <td>0.000000e+00</td>\n",
       "      <td>0.000000e+00</td>\n",
       "      <td>1.419547e+13</td>\n",
       "      <td>0.000000e+00</td>\n",
       "      <td>vietnam-education-foundation</td>\n",
       "    </tr>\n",
       "  </tbody>\n",
       "</table>\n",
       "<p>110 rows × 13 columns</p>\n",
       "</div>"
      ],
      "text/plain": [
       "     agency_id  toptier_code abbreviation  \\\n",
       "0         1525           247         AAHC   \n",
       "1         1146           310         USAB   \n",
       "2         1136           302         ACUS   \n",
       "3         1144           306         ACHP   \n",
       "4         1527           166        USADF   \n",
       "..         ...           ...          ...   \n",
       "105       1522            77          DFC   \n",
       "106       1162           510          CSB   \n",
       "107       1169           345         CAVC   \n",
       "108         90          1133        USTDA   \n",
       "109       1418           519          VEF   \n",
       "\n",
       "                                           agency_name  \\\n",
       "0     400 Years of African-American History Commission   \n",
       "1                                         Access Board   \n",
       "2                Administrative Conference of the U.S.   \n",
       "3            Advisory Council on Historic Preservation   \n",
       "4                       African Development Foundation   \n",
       "..                                                 ...   \n",
       "105  U.S. International Development Finance Corpora...   \n",
       "106                United States Chemical Safety Board   \n",
       "107  United States Court of Appeals for Veterans Cl...   \n",
       "108         United States Trade and Development Agency   \n",
       "109                       Vietnam Education Foundation   \n",
       "\n",
       "                       congressional_justification_url  active_fy  active_fq  \\\n",
       "0                                                  NaN       2025          3   \n",
       "1                      https://www.access-board.gov/cj       2025          3   \n",
       "2                              https://www.acus.gov/cj       2025          3   \n",
       "3    https://www.achp.gov/sites/default/files/2021-...       2025          3   \n",
       "4                             https://www.usadf.gov/cj       2025          3   \n",
       "..                                                 ...        ...        ...   \n",
       "105                                                NaN       2025          3   \n",
       "106                             https://www.csb.gov/cj       2025          3   \n",
       "107                   https://www.uscourts.cavc.gov/cj       2025          3   \n",
       "108                           https://www.ustda.gov/cj       2025          3   \n",
       "109                                                NaN       2025          3   \n",
       "\n",
       "     outlay_amount  obligated_amount  budget_authority_amount  \\\n",
       "0     1.953400e+06      2.197040e+04             2.934499e+06   \n",
       "1     5.918139e+06      5.765031e+06             1.358844e+07   \n",
       "2     2.394067e+06      2.269892e+06             3.600360e+06   \n",
       "3     8.149314e+06      7.729430e+06             1.863945e+07   \n",
       "4     1.858159e+07      1.707742e+07             6.479858e+07   \n",
       "..             ...               ...                      ...   \n",
       "105   3.853499e+08      2.083858e+08             8.190721e+09   \n",
       "106   8.945224e+06      8.489627e+06             2.166740e+07   \n",
       "107   2.976940e+07      3.243715e+07             1.264026e+08   \n",
       "108   5.250495e+07      3.134760e+07             1.822763e+08   \n",
       "109   0.000000e+00      0.000000e+00             0.000000e+00   \n",
       "\n",
       "     current_total_budget_authority_amount  \\\n",
       "0                             1.419547e+13   \n",
       "1                             1.419547e+13   \n",
       "2                             1.419547e+13   \n",
       "3                             1.419547e+13   \n",
       "4                             1.419547e+13   \n",
       "..                                     ...   \n",
       "105                           1.419547e+13   \n",
       "106                           1.419547e+13   \n",
       "107                           1.419547e+13   \n",
       "108                           1.419547e+13   \n",
       "109                           1.419547e+13   \n",
       "\n",
       "     percentage_of_total_budget_authority  \\\n",
       "0                            2.067209e-07   \n",
       "1                            9.572384e-07   \n",
       "2                            2.536275e-07   \n",
       "3                            1.313056e-06   \n",
       "4                            4.564737e-06   \n",
       "..                                    ...   \n",
       "105                          5.769956e-04   \n",
       "106                          1.526361e-06   \n",
       "107                          8.904436e-06   \n",
       "108                          1.284046e-05   \n",
       "109                          0.000000e+00   \n",
       "\n",
       "                                           agency_slug  \n",
       "0     400-years-of-african-american-history-commission  \n",
       "1                                         access-board  \n",
       "2                  administrative-conference-of-the-us  \n",
       "3            advisory-council-on-historic-preservation  \n",
       "4                       african-development-foundation  \n",
       "..                                                 ...  \n",
       "105   us-international-development-finance-corporation  \n",
       "106                united-states-chemical-safety-board  \n",
       "107  united-states-court-of-appeals-for-veterans-cl...  \n",
       "108         united-states-trade-and-development-agency  \n",
       "109                       vietnam-education-foundation  \n",
       "\n",
       "[110 rows x 13 columns]"
      ]
     },
     "execution_count": 3,
     "metadata": {},
     "output_type": "execute_result"
    }
   ],
   "source": [
    "df = pd.read_csv(\"USASpendings.csv\")\n",
    "df"
   ]
  },
  {
   "cell_type": "markdown",
   "id": "313779e5",
   "metadata": {},
   "source": [
    "agency_id                                       :Unique identifier for the agency\n",
    "toptier_code\t                                :Code for top-level federal agency classification\n",
    "abbreviation\t                                :Acronym of the agency name\n",
    "agency_name\t                                    :Full name of the federal agency\n",
    "congressional_justification_url\t                :Link to agency’s budget request document submitted to Congress\n",
    "active_fy\t                                    :Current fiscal year(financial year) for which data is reported\n",
    "active_fq\t                                    :Current fiscal quarter\n",
    "outlay_amount\t                                :Actual amount spent by the agency\n",
    "obligated_amount                                :Funds committed by the agency but not yet spent\n",
    "budget_authority_amount                         :Authorized budget for the agency\n",
    "current_total_budget_authority_amount           :Total budget authority including all adjustments\n",
    "percentage_of_total_budget_authority            :Agency’s share of the total government budget\n",
    "agency_slug\t                                    :URL-friendly version of the agency name used in web links"
   ]
  },
  {
   "cell_type": "code",
   "execution_count": 4,
   "id": "6333306f",
   "metadata": {},
   "outputs": [
    {
     "data": {
      "text/plain": [
       "(110, 13)"
      ]
     },
     "execution_count": 4,
     "metadata": {},
     "output_type": "execute_result"
    }
   ],
   "source": [
    "df.shape"
   ]
  },
  {
   "cell_type": "code",
   "execution_count": 6,
   "id": "1f96aa80",
   "metadata": {},
   "outputs": [
    {
     "data": {
      "text/plain": [
       "True"
      ]
     },
     "execution_count": 6,
     "metadata": {},
     "output_type": "execute_result"
    }
   ],
   "source": [
    "df[\"agency_id\"].nunique() == df.shape[0]"
   ]
  },
  {
   "cell_type": "markdown",
   "id": "a8592f58",
   "metadata": {},
   "source": [
    "This indicates,\n",
    "All the agencies are exclusive and none is repeated"
   ]
  },
  {
   "cell_type": "code",
   "execution_count": 8,
   "id": "ee50a18d",
   "metadata": {},
   "outputs": [
    {
     "name": "stdout",
     "output_type": "stream",
     "text": [
      "<class 'pandas.core.frame.DataFrame'>\n",
      "RangeIndex: 110 entries, 0 to 109\n",
      "Data columns (total 13 columns):\n",
      " #   Column                                 Non-Null Count  Dtype  \n",
      "---  ------                                 --------------  -----  \n",
      " 0   agency_id                              110 non-null    int64  \n",
      " 1   toptier_code                           110 non-null    int64  \n",
      " 2   abbreviation                           110 non-null    object \n",
      " 3   agency_name                            110 non-null    object \n",
      " 4   congressional_justification_url        97 non-null     object \n",
      " 5   active_fy                              110 non-null    int64  \n",
      " 6   active_fq                              110 non-null    int64  \n",
      " 7   outlay_amount                          110 non-null    float64\n",
      " 8   obligated_amount                       110 non-null    float64\n",
      " 9   budget_authority_amount                110 non-null    float64\n",
      " 10  current_total_budget_authority_amount  110 non-null    float64\n",
      " 11  percentage_of_total_budget_authority   110 non-null    float64\n",
      " 12  agency_slug                            110 non-null    object \n",
      "dtypes: float64(5), int64(4), object(4)\n",
      "memory usage: 11.3+ KB\n"
     ]
    }
   ],
   "source": [
    "df.info()"
   ]
  },
  {
   "cell_type": "code",
   "execution_count": 11,
   "id": "80472146",
   "metadata": {},
   "outputs": [
    {
     "data": {
      "text/plain": [
       "agency_id                                 0\n",
       "toptier_code                              0\n",
       "abbreviation                              0\n",
       "agency_name                               0\n",
       "congressional_justification_url          13\n",
       "active_fy                                 0\n",
       "active_fq                                 0\n",
       "outlay_amount                             0\n",
       "obligated_amount                          0\n",
       "budget_authority_amount                   0\n",
       "current_total_budget_authority_amount     0\n",
       "percentage_of_total_budget_authority      0\n",
       "agency_slug                               0\n",
       "dtype: int64"
      ]
     },
     "execution_count": 11,
     "metadata": {},
     "output_type": "execute_result"
    }
   ],
   "source": [
    "df.isnull().sum()"
   ]
  },
  {
   "cell_type": "markdown",
   "id": "74d91e0e",
   "metadata": {},
   "source": [
    "Here, \n",
    "\"congressional_justification_url\" have a lot  of NULL values which may affect our analysis,\n",
    "also we have \"agency_slug\" which does almost the same thing.\n",
    "\n",
    "So we will drop this column entirely."
   ]
  },
  {
   "cell_type": "code",
   "execution_count": null,
   "id": "71c4ad57",
   "metadata": {},
   "outputs": [],
   "source": [
    "del df['congressional_justification_url']"
   ]
  },
  {
   "cell_type": "code",
   "execution_count": 14,
   "id": "de07807d",
   "metadata": {},
   "outputs": [
    {
     "data": {
      "text/plain": [
       "(110, 12)"
      ]
     },
     "execution_count": 14,
     "metadata": {},
     "output_type": "execute_result"
    }
   ],
   "source": [
    "df.shape"
   ]
  },
  {
   "cell_type": "markdown",
   "id": "bece3991",
   "metadata": {},
   "source": [
    "Data is now cleaned so we can save this data as a new file."
   ]
  },
  {
   "cell_type": "code",
   "execution_count": 15,
   "id": "be95e1ee",
   "metadata": {},
   "outputs": [],
   "source": [
    "df.to_csv(\"Cleaned_USASpendings.csv\")"
   ]
  }
 ],
 "metadata": {
  "kernelspec": {
   "display_name": "Python 3",
   "language": "python",
   "name": "python3"
  },
  "language_info": {
   "codemirror_mode": {
    "name": "ipython",
    "version": 3
   },
   "file_extension": ".py",
   "mimetype": "text/x-python",
   "name": "python",
   "nbconvert_exporter": "python",
   "pygments_lexer": "ipython3",
   "version": "3.13.5"
  }
 },
 "nbformat": 4,
 "nbformat_minor": 5
}
